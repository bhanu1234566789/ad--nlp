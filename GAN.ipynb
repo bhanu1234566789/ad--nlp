{
  "nbformat": 4,
  "nbformat_minor": 0,
  "metadata": {
    "colab": {
      "provenance": [],
      "gpuType": "T4",
      "authorship_tag": "ABX9TyNwLy/9j6Zo/kG5wtXmD55J",
      "include_colab_link": true
    },
    "kernelspec": {
      "name": "python3",
      "display_name": "Python 3"
    },
    "language_info": {
      "name": "python"
    },
    "accelerator": "GPU"
  },
  "cells": [
    {
      "cell_type": "markdown",
      "metadata": {
        "id": "view-in-github",
        "colab_type": "text"
      },
      "source": [
        "<a href=\"https://colab.research.google.com/github/bhanu1234566789/ad--nlp/blob/main/GAN.ipynb\" target=\"_parent\"><img src=\"https://colab.research.google.com/assets/colab-badge.svg\" alt=\"Open In Colab\"/></a>"
      ]
    },
    {
      "cell_type": "code",
      "execution_count": null,
      "metadata": {
        "id": "gZHU4qzp7yyE"
      },
      "outputs": [],
      "source": [
        "import numpy as np\n",
        "import matplotlib.pyplot as plt\n",
        "from tqdm import tqdm\n",
        "from keras.layers import Input, Dense, Dropout, LeakyReLU\n",
        "from keras.models import Model, Sequential\n",
        "from keras.datasets import mnist\n",
        "from keras.optimizers import Adam\n",
        "from keras import initializers"
      ]
    },
    {
      "cell_type": "code",
      "source": [
        "np.random.seed(10)\n",
        "random_dim = 100"
      ],
      "metadata": {
        "id": "tjr0Kxmo9lcS"
      },
      "execution_count": null,
      "outputs": []
    },
    {
      "cell_type": "code",
      "source": [
        "def load_minst_data():\n",
        "  (x_train, y_train), (x_test, y_test) = mnist.load_data()\n",
        "  x_train = (x_train.astype(np.float32) - 127.5)/127.5\n",
        "  x_train = x_train.reshape(60000, 784)\n",
        "  return (x_train, y_train, x_test, y_test)"
      ],
      "metadata": {
        "id": "UAQdzejf9zhf"
      },
      "execution_count": null,
      "outputs": []
    },
    {
      "cell_type": "code",
      "source": [
        "def get_optimizer():\n",
        "  return Adam(learning_rate=0.0002, beta_1=0.5)"
      ],
      "metadata": {
        "id": "TCbWB3nO-tXf"
      },
      "execution_count": null,
      "outputs": []
    },
    {
      "cell_type": "code",
      "source": [
        "def get_generator(optimizer):\n",
        "  generator = Sequential()\n",
        "  generator.add(Dense(256, input_dim=random_dim, \\\n",
        "                      kernel_initializer=initializers.RandomNormal(stddev=0.02)))\n",
        "  generator.add(LeakyReLU(0.2))\n",
        "  generator.add(Dense(512))\n",
        "  generator.add(LeakyReLU(0.2))\n",
        "  generator.add(Dense(1024))\n",
        "  generator.add(LeakyReLU(0.2))\n",
        "  generator.add(Dense(784, activation='tanh'))\n",
        "  generator.compile(loss='binary_crossentropy', optimizer=optimizer)\n",
        "  return generator"
      ],
      "metadata": {
        "id": "By8CfzsC_aUX"
      },
      "execution_count": null,
      "outputs": []
    },
    {
      "cell_type": "code",
      "source": [
        "def get_gan_network(discriminator, random_dim, generator, optimizer):\n",
        "  discriminator.trainable = False\n",
        "  gan_input = Input(shape=(random_dim,))\n",
        "  x = generator(gan_input)\n",
        "  gan_output = discriminator(x)\n",
        "  gan = Model(inputs=gan_input, outputs=gan_output)\n",
        "  gan.compile(loss='binary_crossentropy', optimizer=optimizer)\n",
        "  return gan"
      ],
      "metadata": {
        "id": "Q3oScXI7AoSC"
      },
      "execution_count": null,
      "outputs": []
    },
    {
      "cell_type": "code",
      "source": [
        "def train(epochs=1, batch_size=128):\n",
        "  x_train, y_train, x_test, y_test = load_minst_data()\n",
        "  batch_count = x_train.shape[0] / batch_size\n",
        "  adam = get_optimizer()\n",
        "  generator = get_generator(adam)\n",
        "  discriminator = get_discriminator(adam)\n",
        "  for e in range(1, epochs+1):\n",
        "    print('-'*15, 'Epoch %d' % e, '-'*15)\n",
        "    for_in_tqdm(range(int(batch_count))):\n",
        "      noise = np.random.normal(0, 1, size=[batch_size, random_dim])\n",
        "      image_batch = x_train[np.random.randint(0, x_train.shape[0], \\size=batch_size)]\n",
        "      generated_images = generator.predict(noise)\n",
        "      X = np.concatenate([image_batch, generated_images])\n",
        "      y_dis = np.zeros(2*batch_size)\n",
        "      y_dis[:batch_size] = 0.9\n",
        "      discriminator.trainable = True\n",
        "      discriminator.train_on_batch(X, y_dis)\n",
        "      noise = np.random.normal(0, 1, size=[batch_size, random_dim])\n",
        "      y_gen = np.ones(batch_size)\n",
        "      discriminator.trainable = False\n",
        "      gan.train_on_batch(noise, y_gen)\n",
        "  if e == 1 or e % 20 == 0:\n",
        "    plot_generated_images(e, generator)"
      ],
      "metadata": {
        "colab": {
          "base_uri": "https://localhost:8080/",
          "height": 106
        },
        "id": "wumG_KVcCMGh",
        "outputId": "52983924-372d-41ad-aec9-240f41466699"
      },
      "execution_count": null,
      "outputs": [
        {
          "output_type": "error",
          "ename": "SyntaxError",
          "evalue": "invalid syntax (<ipython-input-13-42b3f18704f9>, line 9)",
          "traceback": [
            "\u001b[0;36m  File \u001b[0;32m\"<ipython-input-13-42b3f18704f9>\"\u001b[0;36m, line \u001b[0;32m9\u001b[0m\n\u001b[0;31m    for_in_tqdm(range(int(batch_count))):\u001b[0m\n\u001b[0m                                        ^\u001b[0m\n\u001b[0;31mSyntaxError\u001b[0m\u001b[0;31m:\u001b[0m invalid syntax\n"
          ]
        }
      ]
    },
    {
      "cell_type": "code",
      "source": [],
      "metadata": {
        "id": "i8R87MayFq4q"
      },
      "execution_count": null,
      "outputs": []
    }
  ]
}