{
  "nbformat": 4,
  "nbformat_minor": 0,
  "metadata": {
    "colab": {
      "provenance": [],
      "authorship_tag": "ABX9TyNm4/OMQ6pvdeYxVou6Kp0B",
      "include_colab_link": true
    },
    "kernelspec": {
      "name": "python3",
      "display_name": "Python 3"
    },
    "language_info": {
      "name": "python"
    }
  },
  "cells": [
    {
      "cell_type": "markdown",
      "metadata": {
        "id": "view-in-github",
        "colab_type": "text"
      },
      "source": [
        "<a href=\"https://colab.research.google.com/github/bhanu1234566789/python_basics/blob/main/Untitled4.ipynb\" target=\"_parent\"><img src=\"https://colab.research.google.com/assets/colab-badge.svg\" alt=\"Open In Colab\"/></a>"
      ]
    },
    {
      "cell_type": "code",
      "execution_count": null,
      "metadata": {
        "colab": {
          "base_uri": "https://localhost:8080/"
        },
        "id": "HI7Kuv3qX6gr",
        "outputId": "df10c457-b6af-48fe-c05b-ee3b064bdfac"
      },
      "outputs": [
        {
          "output_type": "stream",
          "name": "stdout",
          "text": [
            "enter the value:12\n",
            "<class 'int'>\n"
          ]
        }
      ],
      "source": [
        "a=int(input(\"enter the value:\" ))\n",
        "print(type(a))"
      ]
    },
    {
      "cell_type": "code",
      "source": [
        "name=input('enter the name:')\n",
        "age=int(input('enter the age:'))\n",
        "print(f'name is {name} and age is {age}')"
      ],
      "metadata": {
        "colab": {
          "base_uri": "https://localhost:8080/"
        },
        "id": "weuwCOEAYOKf",
        "outputId": "85aa5c29-3fac-47cb-9a5f-4ae291add2e1"
      },
      "execution_count": null,
      "outputs": [
        {
          "output_type": "stream",
          "name": "stdout",
          "text": [
            "enter the name:ram\n",
            "enter the age:12\n",
            "name is ram and age is 12\n"
          ]
        }
      ]
    },
    {
      "cell_type": "code",
      "source": [
        "a=100\n",
        "print(int(a))"
      ],
      "metadata": {
        "colab": {
          "base_uri": "https://localhost:8080/"
        },
        "id": "CyX08FZ1bQSV",
        "outputId": "fa2023dc-cc3c-44c1-8941-bec47f46d4ed"
      },
      "execution_count": null,
      "outputs": [
        {
          "output_type": "stream",
          "name": "stdout",
          "text": [
            "100\n"
          ]
        }
      ]
    },
    {
      "cell_type": "code",
      "source": [
        "a=200\n",
        "b=575\n",
        "c=400\n",
        "print(a>b and a<=c or b>c)"
      ],
      "metadata": {
        "colab": {
          "base_uri": "https://localhost:8080/"
        },
        "id": "FaRDJ57AeEUg",
        "outputId": "b82a652b-fe2d-4356-bb35-523a6b7c2d49"
      },
      "execution_count": null,
      "outputs": [
        {
          "output_type": "stream",
          "name": "stdout",
          "text": [
            "True\n"
          ]
        }
      ]
    },
    {
      "cell_type": "code",
      "source": [],
      "metadata": {
        "id": "5_X6C5fmfCXX"
      },
      "execution_count": null,
      "outputs": []
    }
  ]
}